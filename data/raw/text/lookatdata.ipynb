{
 "cells": [
  {
   "cell_type": "code",
   "execution_count": 8,
   "metadata": {},
   "outputs": [
    {
     "name": "stdout",
     "output_type": "stream",
     "text": [
      "Current working directory: c:\\Users\\jiang\\Desktop\\Projects\\Lingo\\data\\raw\n",
      "\n",
      "Checking directory structure:\n",
      "'data' directory exists: False\n",
      "\n",
      "All files and directories in current directory: ['audio', 'audio.mp3', 'en', 'en.zip', 'lookatdata.ipynb', 'multimodal', 'reconstruct_data.py', 'slang_OpenSub_meta.tsv', 'slang_OpenSub_negatives_meta.tsv', 'text', 'urbandict-word-defs.csv', 'video']\n"
     ]
    }
   ],
   "source": [
    "import os\n",
    "\n",
    "# Print current working directory\n",
    "print(\"Current working directory:\", os.getcwd())\n",
    "\n",
    "# Check if 'data' directory exists\n",
    "print(\"\\nChecking directory structure:\")\n",
    "print(\"'data' directory exists:\", os.path.exists('data'))\n",
    "\n",
    "# If data directory exists, check 'raw' subdirectory\n",
    "if os.path.exists('data'):\n",
    "    print(\"'data/raw' directory exists:\", os.path.exists('data/raw'))\n",
    "    # List contents of data directory\n",
    "    print(\"\\nContents of 'data' directory:\", os.listdir('data'))\n",
    "    \n",
    "    # If raw directory exists, list its contents\n",
    "    if os.path.exists('data/raw'):\n",
    "        print(\"\\nContents of 'data/raw' directory:\", os.listdir('data/raw'))\n",
    "\n",
    "# List all files and directories in current directory\n",
    "print(\"\\nAll files and directories in current directory:\", os.listdir())\n"
   ]
  },
  {
   "cell_type": "code",
   "execution_count": 11,
   "metadata": {},
   "outputs": [
    {
     "name": "stdout",
     "output_type": "stream",
     "text": [
      "         SLANG_TERM  ANNOTATOR_CONFIDENCE  MOVIE_ID  SENT_ID REGION  YEAR  \\\n",
      "0  burn your tongue                     1   3151540      693     US  2007   \n",
      "1             mound                     1   4744540     1106     US  2012   \n",
      "2         quaaludes                     2     54446     1497     US  2000   \n",
      "3            lovely                     1   5905224      307     US  2012   \n",
      "4         watch dog                     2   5905224      200     US  2012   \n",
      "\n",
      "                                 DEFINITION_SENTENCE  \\\n",
      "0                                                NaN   \n",
      "1                                                NaN   \n",
      "2  a type of sedative or tranquilizer drug, speci...   \n",
      "3                                                NaN   \n",
      "4  someone who is assigned to keep a lookout or g...   \n",
      "\n",
      "                               DEFINITION_SOURCE_URL  \\\n",
      "0                                                NaN   \n",
      "1                                                NaN   \n",
      "2  https://www.urbandictionary.com/define.php?ter...   \n",
      "3                                                NaN   \n",
      "4  https://www.urbandictionary.com/define.php?ter...   \n",
      "\n",
      "  LITERAL_PARAPHRASE_OF_SLANG  \n",
      "0                         NaN  \n",
      "1                         NaN  \n",
      "2               tranquilizers  \n",
      "3                         NaN  \n",
      "4                    guardian  \n"
     ]
    }
   ],
   "source": [
    "import pandas as pd\n",
    "\n",
    "# Read TSV file\n",
    "slang_OpenSub_meta = pd.read_csv(r'slang_OpenSub_meta.tsv', sep='\\t')\n",
    "\n",
    "# Display the first few rows of the DataFrame\n",
    "print(slang_OpenSub_meta.head())\n",
    "\n"
   ]
  },
  {
   "cell_type": "code",
   "execution_count": 12,
   "metadata": {},
   "outputs": [
    {
     "name": "stdout",
     "output_type": "stream",
     "text": [
      "                                            SENTENCE  \\\n",
      "0  Or maybe we could go somewhere and you could b...   \n",
      "1  As I'm walking out to the mound, all I could t...   \n",
      "2     My wife's had an accident with some Quaaludes.   \n",
      "3  Michael, would you put these lovely flowers in...   \n",
      "4  You just can't put me on watch dog anymore, al...   \n",
      "\n",
      "                                        FULL_CONTEXT        SLANG_TERM  \\\n",
      "0  Because that would make things even better. <i...  burn your tongue   \n",
      "1  I mean, it's Fenway. <i> As I'm walking out to...             mound   \n",
      "2  - I'm up. <i> My wife's had an accident with s...         quaaludes   \n",
      "3  - Fabulous! <i> Michael, would you put these l...            lovely   \n",
      "4  Dude, you don't have to leave, all right? <i> ...         watch dog   \n",
      "\n",
      "   ANNOTATOR_CONFIDENCE  MOVIE_ID  SENT_ID REGION  YEAR  \\\n",
      "0                     1   3151540      693     US  2007   \n",
      "1                     1   4744540     1106     US  2012   \n",
      "2                     2     54446     1497     US  2000   \n",
      "3                     1   5905224      307     US  2012   \n",
      "4                     2   5905224      200     US  2012   \n",
      "\n",
      "                                 DEFINITION_SENTENCE  \\\n",
      "0                                                NaN   \n",
      "1                                                NaN   \n",
      "2  a type of sedative or tranquilizer drug, speci...   \n",
      "3                                                NaN   \n",
      "4  someone who is assigned to keep a lookout or g...   \n",
      "\n",
      "                               DEFINITION_SOURCE_URL  \\\n",
      "0                                                NaN   \n",
      "1                                                NaN   \n",
      "2  https://www.urbandictionary.com/define.php?ter...   \n",
      "3                                                NaN   \n",
      "4  https://www.urbandictionary.com/define.php?ter...   \n",
      "\n",
      "  LITERAL_PARAPHRASE_OF_SLANG  \n",
      "0                         NaN  \n",
      "1                         NaN  \n",
      "2               tranquilizers  \n",
      "3                         NaN  \n",
      "4                    guardian  \n",
      "                                            SENTENCE  \\\n",
      "0                Oh, man, you made friends with' em.   \n",
      "1  He could pitch a hundred-mile-an-hour fastball...   \n",
      "2                       It's an account, that's all.   \n",
      "3          I thought you were the assistant manager.   \n",
      "4            On September 12th, 2001, that was over.   \n",
      "\n",
      "                                        FULL_CONTEXT  MOVIE_ID  SENT_ID  \\\n",
      "0  Give me tonight to work on it. <i> Oh, man, yo...     54446     1733   \n",
      "1  Well, Flanagan, he... <i> He could pitch a hun...   4744540      671   \n",
      "2  They don't got trusts in Switzerland. <i> It's...   3967329     1818   \n",
      "3  Really? <i> I thought you were the assistant m...   5905224      324   \n",
      "4  - Okay. <i> On September 12th, 2001, that was ...   3151540     1256   \n",
      "\n",
      "  REGION  YEAR  \n",
      "0     US  2000  \n",
      "1     US  2012  \n",
      "2     US  2010  \n",
      "3     US  2012  \n",
      "4     US  2007  \n"
     ]
    }
   ],
   "source": [
    "# Read Full dataset \n",
    "\n",
    "slang_OpenSub = pd.read_csv(r'slang_OpenSub.tsv', sep='\\t')\n",
    "\n",
    "slang_OpenSub_negatives = pd.read_csv(r'slang_OpenSub_negatives.tsv', sep='\\t')\n",
    "\n",
    "\n",
    "\n",
    "# Display the first few rows of the full dataset\n",
    "print(slang_OpenSub.head())\n",
    "\n",
    "print(slang_OpenSub_negatives.head())\n"
   ]
  }
 ],
 "metadata": {
  "kernelspec": {
   "display_name": "Python 3",
   "language": "python",
   "name": "python3"
  },
  "language_info": {
   "codemirror_mode": {
    "name": "ipython",
    "version": 3
   },
   "file_extension": ".py",
   "mimetype": "text/x-python",
   "name": "python",
   "nbconvert_exporter": "python",
   "pygments_lexer": "ipython3",
   "version": "3.12.5"
  }
 },
 "nbformat": 4,
 "nbformat_minor": 2
}
