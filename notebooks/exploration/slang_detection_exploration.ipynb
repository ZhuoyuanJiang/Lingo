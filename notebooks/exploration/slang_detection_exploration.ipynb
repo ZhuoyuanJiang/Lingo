{
 "cells": [
  {
   "cell_type": "markdown",
   "id": "f89f929d",
   "metadata": {},
   "source": [
    "### 1. video input 2 audio\n",
    "youtube links 2 video 2 audio"
   ]
  },
  {
   "cell_type": "markdown",
   "id": "9127a871",
   "metadata": {},
   "source": [
    "winget install ffmpeg   \n",
    "restore shell"
   ]
  },
  {
   "cell_type": "code",
   "execution_count": null,
   "id": "ace65f43",
   "metadata": {},
   "outputs": [
    {
     "name": "stdout",
     "output_type": "stream",
     "text": [
      "[youtube] Extracting URL: https://www.youtube.com/watch?v=7fMKxYBNCfc\n",
      "[youtube] 7fMKxYBNCfc: Downloading webpage\n",
      "[youtube] 7fMKxYBNCfc: Downloading tv client config\n",
      "[youtube] 7fMKxYBNCfc: Downloading player 73381ccc-main\n",
      "[youtube] 7fMKxYBNCfc: Downloading tv player API JSON\n",
      "[youtube] 7fMKxYBNCfc: Downloading ios player API JSON\n",
      "[youtube] 7fMKxYBNCfc: Downloading m3u8 information\n",
      "[info] 7fMKxYBNCfc: Downloading 1 format(s): 251\n",
      "[download] audio.mp3 has already been downloaded\n",
      "[download] 100% of    9.46MiB\n",
      "[ExtractAudio] Destination: audio.mp3\n",
      "Deleting original file audio.orig.mp3 (pass -k to keep)\n"
     ]
    }
   ],
   "source": [
    "#from pytube import YouTube\n",
    "#yt = YouTube('https://www.youtube.com/watch?v=7fMKxYBNCfc')\n",
    "#stream = yt.streams.filter(only_audio=True).first()\n",
    "#stream.download('/videos/testvideo1.mp4')\n",
    "\n",
    "#bad getaway\n",
    "\n",
    "import yt_dlp\n",
    "\n",
    "def download_audio(url, output_path='audio.mp3'):\n",
    "    ydl_opts = {\n",
    "        'format': 'bestaudio/best',\n",
    "        'outtmpl': output_path,\n",
    "        'postprocessors': [{\n",
    "            'key': 'FFmpegExtractAudio', # using ffmpeg to convert the audio\n",
    "            'preferredcodec': 'mp3',  # desired audio format\n",
    "        }],\n",
    "    }\n",
    "    with yt_dlp.YoutubeDL(ydl_opts) as ydl:\n",
    "        ydl.download([url])\n",
    "\n",
    "download_audio(\"https://www.youtube.com/watch?v=7fMKxYBNCfc\")"
   ]
  },
  {
   "cell_type": "markdown",
   "id": "cc6e4eba",
   "metadata": {},
   "source": [
    "### 2. Audio 2 text"
   ]
  },
  {
   "cell_type": "code",
   "execution_count": 3,
   "id": "6c927578",
   "metadata": {},
   "outputs": [
    {
     "name": "stderr",
     "output_type": "stream",
     "text": [
      "100%|███████████████████████████████████████| 461M/461M [00:06<00:00, 76.2MiB/s]\n"
     ]
    },
    {
     "name": "stdout",
     "output_type": "stream",
     "text": [
      " Ah, okay. I think I'm now ready to watch English movies without subtitles. Let's go. She's lit. She's... she's lit? Lit, lit, lit. Wasn't in the book. Let's watch another one. He's just low-key. He's just low-key? Low-key? What does it mean? Let's watch another one. Are my princely robes not on fleek? My princely robes not on fleek? On fleek? What's that? One more. Good. Jonesing for a cup of coffee. What? Jonesing? Jones? Jonesing for a cup of coffee? But these are not in my book. What are these? Hello. My name is Maddie from POC English and in this lesson I am going to teach you 15 American Slangs that you cannot learn from books. But first, what are slangs? Slangs are informal English vocabulary that you can only use in informal conversations. Now in this lesson, we are going to learn 15 very common American Slangs that you will frequently hear if you are watching movies or TV series. But before that, if you want to receive the summary of this lesson, all the 15 slangs with all their meanings and examples, in a single PDF file, you can simply give me your email address by clicking on this link, going to my website, entering your email address and clicking subscribe. This is completely for free. Plus, you will receive all of my future lesson summaries for free in your email addresses. Now let's start this lesson. First, look at this very short and simple paragraph. Hey my friend, relax. You don't have to study so hard. I'm sure you will do great tomorrow. This is a very simple paragraph, right? However, if you go to the U.S. and you have a conversation with someone on the street or you see two friends having a conversation informally on the street, this is not the way they will say it. So how will they say it? Instead of friend, they will say dude. Dude is used to refer to a man. For example, Jason was a cool dude. It means Jason was a cool and nice man. Instead of relax, you may hear chill. Chill, which means relax. For example, the bar has a pretty chill atmosphere. The bar has a pretty chill atmosphere. It means the vibe of the bar is very relaxed. It's very chill. Instead of study hard, you may hear the word cram. Cram. If you cram for an exam, you study really hard for it in a very short period of time. For example, the night before the exam, you have all your books and you start cramming for the exam. She is cramming for her history exam. Now, instead of do well, especially for an exam, you will hear the word ace. Ace. If you ace a test or ace an exam, it means you will do very well in that test or exam. For example, I aced my math exam. I aced it. It means I did very well. Now, look again at this paragraph and let's read it again this time using American slang. Hey, dude. Chill. You don't have to cram. I'm sure you will ace the test tomorrow. Now, this is American slang. Now, look at this very short and simple paragraph. Last night's party was amazing. We went crazy. Your friends were really cool. Now, this is a normal paragraph. However, do you know what the slang version of this paragraph could be? When something is amazing or really good or really enjoyable, instead of amazing or good or enjoyable, in American slang, you can say lit. Lit. If something is lit, it's very good. For example, that car is lit. It means that car is very good. Another thing you can use instead of lit is dope. Dope. Which means cool. Which means very good. For example, that music is dope. It means that music is very good. Instead of crazy, in American slang, you may hear the word nuts. Nuts, which means crazy and out of your mind. For example, you are nuts if you think you can climb Mount Everest easily. You are nuts if you think you can climb Mount Everest easily. You're crazy. You're nuts. Now, let's see the slang version of this paragraph. Last night's party was lit. We went nuts. Your friends were really dope. That's it. And now, time for another short and simple paragraph. Let's read it together. I love my girlfriend. She is beautiful and she is very stylish. She's also very modest. She has a great sense of style and she helps me wear things which are very attractive. Now, this is a normal paragraph. What is the slang version of this paragraph? Let's see together. If someone is stylish or if something is very stylish, in American slang, you might hear the word drip and say, somebody or something has the drip. If someone has the drip, it means they are very stylish, very fashionable. For example, I like Suzy because she has the drip. She has the drip. She is very stylish. Now, if something or someone is quiet and in a way that is not attracting anyone's attention, so it's like neutral without attracting attention, you could use the word low key. Low key means quiet and without attracting attention. For example, the wedding ceremony was very low key. It means the wedding did not attract that much attention and it was quiet, maybe very small. It was low key. In American slang, instead of girlfriend or boyfriend, you may hear the word bay. Bay, B-A-E. For example, it's bad when bay does not reply to your texts. It's bad when bay doesn't reply to your texts. It means it's very bad that your girlfriend or boyfriend doesn't reply to your messages. If something is very attractive or if someone is very attractive, instead of attractive, you may hear the word on fleek, on fleek, which is a slang for attractive. For example, that look is very on fleek. That look is very on fleek. It means that look, that dress, that outfit is very attractive. That's on fleek. And now let's have another look at this paragraph. This time, let's make it slang. I love my bay. She is beautiful and she has the drip. She's also very low key. She has a great sense of style and she helps me wear things which are on fleek. Easy peasy. And now it is time for the last paragraph. Again, I want to remind you if you want to receive the PDF of the summary of this lesson, all the slangs with all their examples and their meanings, you simply have to give me your email address and that is for free. Click on this link. Go to my website, enter your email address. That's it. Now look at this paragraph. I was studying last night but I was really bored. So my friend suggested going to a bar. I was so excited to dance and drink. I really wanted a bottle of beer but when we got there, the bar was quiet and empty. Now this is a very simple and normal text. What is the slang version of this text? Let's find out together. Another way to say study is to say hit the box. To hit the box is the slang way of saying to study. For example, this weekend I have to hit the box because I have an exam coming up. I have to hit the box because I have an exam coming up. I have to study. In American slang, they don't usually use the word excited. Instead, they say hyped. Hyped, which means very excited about something. For example, I am really hyped about the new Marvel movie. I'm really hyped about the new Marvel movie. I'm very excited about it. Now, this one is a very interesting slang. If you want to say that you want something really bad, it means you want it so much, you can say you are jonesing for it. That's right. If you are jonesing for something, it means you really want to have it. For example, I'm jonesing for a cup of coffee right now. It means I really want to have a cup of coffee. I'm jonesing for it. And finally, the last slang of this lesson, if a place is quiet and empty, you could say it's dead. So if you say place is dead, it means it's very empty and quiet. It's boring. It's not lively. It's dead. For example, the bar was really dead last night. I didn't like it. The bar was really dead. It means it was very empty and very silent, quiet. It is especially used for bars and restaurants. And now, let's have a look at this paragraph and see the slang version for it. I was hitting the box last night, but I was really bored. So my friend suggested going to a bar. I was hyped to dance and drink. I was jonesing for a bottle of beer. I really wanted a bottle of beer. But when we got there, the bar was dead. That's it. I hope you've enjoyed the 15 slangs I've taught you in this lesson. Don't forget to practice. Don't forget to receive the summary of this lesson in the PDF file. Again, I'm telling you, you can click on this link, go to my website, enter your email address, click Subscribe. You will receive all my lesson summaries for free. And then you can use them to practice and review the lessons. See you!\n"
     ]
    }
   ],
   "source": [
    "import whisper\n",
    "model = whisper.load_model(\"small\")\n",
    "result = model.transcribe(\"audio.mp3\")\n",
    "print(result[\"text\"])"
   ]
  },
  {
   "cell_type": "code",
   "execution_count": 9,
   "id": "1f423807",
   "metadata": {},
   "outputs": [
    {
     "name": "stdout",
     "output_type": "stream",
     "text": [
      " Ah, okay. I think I'm now ready to watch English movies without subtitles. Let's go. She's lit. She's... she's lit? Lit, lit, lit. Wasn't in the book. Let's watch another one. He's just low-key. He's just low-key? Low-key? What does it mean? Let's watch another one. Are my princely robes not on fleek? My princely robes not on fleek? On fleek? What's that? One more. Good. Jonesing for a cup of coffee. What? Jonesing? Jones? Jonesing for a cup of coffee? But these are not in my book. What are these? Hello. My name is Maddie from POC English and in this lesson I am going to teach you 15 American Slangs that you cannot learn from books. But first, what are slangs? Slangs are informal English vocabulary that you can only use in informal conversations. Now in this lesson, we are going to learn 15 very common American Slangs that you will frequently hear if you are watching movies or TV series. But before that, if you want to receive the summary of this lesson, all the 15 slangs with all their meanings and examples, in a single PDF file, you can simply give me your email address by clicking on this link, going to my website, entering your email address and clicking subscribe. This is completely for free. Plus, you will receive all of my future lesson summaries for free in your email addresses. Now let's start this lesson. First, look at this very short and simple paragraph. Hey my friend, relax. You don't have to study so hard. I'm sure you will do great tomorrow. This is a very simple paragraph, right? However, if you go to the U.S. and you have a conversation with someone on the street or you see two friends having a conversation informally on the street, this is not the way they will say it. So how will they say it? Instead of friend, they will say dude. Dude is used to refer to a man. For example, Jason was a cool dude. It means Jason was a cool and nice man. Instead of relax, you may hear chill. Chill, which means relax. For example, the bar has a pretty chill atmosphere. The bar has a pretty chill atmosphere. It means the vibe of the bar is very relaxed. It's very chill. Instead of study hard, you may hear the word cram. Cram. If you cram for an exam, you study really hard for it in a very short period of time. For example, the night before the exam, you have all your books and you start cramming for the exam. She is cramming for her history exam. Now, instead of do well, especially for an exam, you will hear the word ace. Ace. If you ace a test or ace an exam, it means you will do very well in that test or exam. For example, I aced my math exam. I aced it. It means I did very well. Now, look again at this paragraph and let's read it again this time using American slang. Hey, dude. Chill. You don't have to cram. I'm sure you will ace the test tomorrow. Now, this is American slang. Now, look at this very short and simple paragraph. Last night's party was amazing. We went crazy. Your friends were really cool. Now, this is a normal paragraph. However, do you know what the slang version of this paragraph could be? When something is amazing or really good or really enjoyable, instead of amazing or good or enjoyable, in American slang, you can say lit. Lit. If something is lit, it's very good. For example, that car is lit. It means that car is very good. Another thing you can use instead of lit is dope. Dope. Which means cool. Which means very good. For example, that music is dope. It means that music is very good. Instead of crazy, in American slang, you may hear the word nuts. Nuts, which means crazy and out of your mind. For example, you are nuts if you think you can climb Mount Everest easily. You are nuts if you think you can climb Mount Everest easily. You're crazy. You're nuts. Now, let's see the slang version of this paragraph. Last night's party was lit. We went nuts. Your friends were really dope. That's it. And now, time for another short and simple paragraph. Let's read it together. I love my girlfriend. She is beautiful and she is very stylish. She's also very modest. She has a great sense of style and she helps me wear things which are very attractive. Now, this is a normal paragraph. What is the slang version of this paragraph? Let's see together. If someone is stylish or if something is very stylish, in American slang, you might hear the word drip and say, somebody or something has the drip. If someone has the drip, it means they are very stylish, very fashionable. For example, I like Suzy because she has the drip. She has the drip. She is very stylish. Now, if something or someone is quiet and in a way that is not attracting anyone's attention, so it's like neutral without attracting attention, you could use the word low key. Low key means quiet and without attracting attention. For example, the wedding ceremony was very low key. It means the wedding did not attract that much attention and it was quiet, maybe very small. It was low key. In American slang, instead of girlfriend or boyfriend, you may hear the word bay. Bay, B-A-E. For example, it's bad when bay does not reply to your texts. It's bad when bay doesn't reply to your texts. It means it's very bad that your girlfriend or boyfriend doesn't reply to your messages. If something is very attractive or if someone is very attractive, instead of attractive, you may hear the word on fleek, on fleek, which is a slang for attractive. For example, that look is very on fleek. That look is very on fleek. It means that look, that dress, that outfit is very attractive. That's on fleek. And now let's have another look at this paragraph. This time, let's make it slang. I love my bay. She is beautiful and she has the drip. She's also very low key. She has a great sense of style and she helps me wear things which are on fleek. Easy peasy. And now it is time for the last paragraph. Again, I want to remind you if you want to receive the PDF of the summary of this lesson, all the slangs with all their examples and their meanings, you simply have to give me your email address and that is for free. Click on this link. Go to my website, enter your email address. That's it. Now look at this paragraph. I was studying last night but I was really bored. So my friend suggested going to a bar. I was so excited to dance and drink. I really wanted a bottle of beer but when we got there, the bar was quiet and empty. Now this is a very simple and normal text. What is the slang version of this text? Let's find out together. Another way to say study is to say hit the box. To hit the box is the slang way of saying to study. For example, this weekend I have to hit the box because I have an exam coming up. I have to hit the box because I have an exam coming up. I have to study. In American slang, they don't usually use the word excited. Instead, they say hyped. Hyped, which means very excited about something. For example, I am really hyped about the new Marvel movie. I'm really hyped about the new Marvel movie. I'm very excited about it. Now, this one is a very interesting slang. If you want to say that you want something really bad, it means you want it so much, you can say you are jonesing for it. That's right. If you are jonesing for something, it means you really want to have it. For example, I'm jonesing for a cup of coffee right now. It means I really want to have a cup of coffee. I'm jonesing for it. And finally, the last slang of this lesson, if a place is quiet and empty, you could say it's dead. So if you say place is dead, it means it's very empty and quiet. It's boring. It's not lively. It's dead. For example, the bar was really dead last night. I didn't like it. The bar was really dead. It means it was very empty and very silent, quiet. It is especially used for bars and restaurants. And now, let's have a look at this paragraph and see the slang version for it. I was hitting the box last night, but I was really bored. So my friend suggested going to a bar. I was hyped to dance and drink. I was jonesing for a bottle of beer. I really wanted a bottle of beer. But when we got there, the bar was dead. That's it. I hope you've enjoyed the 15 slangs I've taught you in this lesson. Don't forget to practice. Don't forget to receive the summary of this lesson in the PDF file. Again, I'm telling you, you can click on this link, go to my website, enter your email address, click Subscribe. You will receive all my lesson summaries for free. And then you can use them to practice and review the lessons. See you!\n"
     ]
    }
   ],
   "source": [
    "print(result[\"text\"])"
   ]
  },
  {
   "cell_type": "markdown",
   "id": "8d53a6e9",
   "metadata": {},
   "source": [
    "### 3. Model training"
   ]
  },
  {
   "cell_type": "markdown",
   "id": "da01e927",
   "metadata": {},
   "source": [
    "https://www.kaggle.com/datasets/therohk/urban-dictionary-words-dataset?utm_source=chatgpt.com  \n",
    "dataset download"
   ]
  },
  {
   "cell_type": "code",
   "execution_count": null,
   "id": "f5feb350",
   "metadata": {},
   "outputs": [
    {
     "data": {
      "text/plain": [
       "'\\n#!pip install kagglehub\\nimport kagglehub\\n\\n# Download latest version\\npath = kagglehub.dataset_download(\"therohk/urban-dictionary-words-dataset\")\\n\\nprint(\"Path to dataset files:\", path)\\n'"
      ]
     },
     "execution_count": 3,
     "metadata": {},
     "output_type": "execute_result"
    }
   ],
   "source": [
    "'''\n",
    "#!pip install kagglehub\n",
    "import kagglehub\n",
    "\n",
    "# Download latest version\n",
    "path = kagglehub.dataset_download(\"therohk/urban-dictionary-words-dataset\")\n",
    "\n",
    "print(\"Path to dataset files:\", path)\n",
    "'''\n"
   ]
  },
  {
   "cell_type": "code",
   "execution_count": null,
   "id": "01880ebc",
   "metadata": {},
   "outputs": [],
   "source": [
    "import pandas as pd\n",
    "\n",
    "df = pd.read_csv('urbandict-word-defs.csv', on_bad_lines='skip')\n",
    "\n",
    "df['score'] = df['up_votes'] - df['down_votes']\n",
    "df_clean = df.dropna(subset=['word', 'definition'])\n",
    "df_clean = df_clean.sort_values('score', ascending=False).drop_duplicates('word').head(20000)\n",
    "\n",
    "from wordfreq import zipf_frequency\n",
    "\n",
    "slang_dict = {\n",
    "    word: definition for word, definition in zip(df_clean['word'].str.lower(), df_clean['definition'])\n",
    "    if len(word) > 3 and zipf_frequency(word, 'en') < 4  # zipf freq < 4 filters out common words\n",
    "}\n",
    "\n"
   ]
  },
  {
   "cell_type": "code",
   "execution_count": null,
   "id": "d71970b2",
   "metadata": {},
   "outputs": [
    {
     "name": "stdout",
     "output_type": "stream",
     "text": [
      "Collecting en-core-web-sm==3.6.0\n",
      "  Downloading https://github.com/explosion/spacy-models/releases/download/en_core_web_sm-3.6.0/en_core_web_sm-3.6.0-py3-none-any.whl (12.8 MB)\n",
      "     ---------------------------------------- 0.0/12.8 MB ? eta -:--:--\n",
      "     ---------------------------------------- 0.1/12.8 MB 2.4 MB/s eta 0:00:06\n",
      "     -- ------------------------------------- 0.8/12.8 MB 8.0 MB/s eta 0:00:02\n",
      "     --------- ------------------------------ 2.9/12.8 MB 20.8 MB/s eta 0:00:01\n",
      "     --------------------- ------------------ 6.8/12.8 MB 36.2 MB/s eta 0:00:01\n",
      "     ------------------------------ -------- 10.2/12.8 MB 43.4 MB/s eta 0:00:01\n",
      "     --------------------------------------  12.8/12.8 MB 73.1 MB/s eta 0:00:01\n",
      "     --------------------------------------- 12.8/12.8 MB 65.5 MB/s eta 0:00:00\n",
      "Requirement already satisfied: spacy<3.7.0,>=3.6.0 in c:\\users\\jackchang\\appdata\\local\\programs\\python\\python311\\lib\\site-packages (from en-core-web-sm==3.6.0) (3.6.1)\n",
      "Requirement already satisfied: spacy-legacy<3.1.0,>=3.0.11 in c:\\users\\jackchang\\appdata\\local\\programs\\python\\python311\\lib\\site-packages (from spacy<3.7.0,>=3.6.0->en-core-web-sm==3.6.0) (3.0.12)\n",
      "Requirement already satisfied: spacy-loggers<2.0.0,>=1.0.0 in c:\\users\\jackchang\\appdata\\local\\programs\\python\\python311\\lib\\site-packages (from spacy<3.7.0,>=3.6.0->en-core-web-sm==3.6.0) (1.0.5)\n",
      "Requirement already satisfied: murmurhash<1.1.0,>=0.28.0 in c:\\users\\jackchang\\appdata\\local\\programs\\python\\python311\\lib\\site-packages (from spacy<3.7.0,>=3.6.0->en-core-web-sm==3.6.0) (1.0.12)\n",
      "Requirement already satisfied: cymem<2.1.0,>=2.0.2 in c:\\users\\jackchang\\appdata\\local\\programs\\python\\python311\\lib\\site-packages (from spacy<3.7.0,>=3.6.0->en-core-web-sm==3.6.0) (2.0.11)\n",
      "Requirement already satisfied: preshed<3.1.0,>=3.0.2 in c:\\users\\jackchang\\appdata\\local\\programs\\python\\python311\\lib\\site-packages (from spacy<3.7.0,>=3.6.0->en-core-web-sm==3.6.0) (3.0.9)\n",
      "Requirement already satisfied: thinc<8.2.0,>=8.1.8 in c:\\users\\jackchang\\appdata\\local\\programs\\python\\python311\\lib\\site-packages (from spacy<3.7.0,>=3.6.0->en-core-web-sm==3.6.0) (8.1.12)\n",
      "Requirement already satisfied: wasabi<1.2.0,>=0.9.1 in c:\\users\\jackchang\\appdata\\local\\programs\\python\\python311\\lib\\site-packages (from spacy<3.7.0,>=3.6.0->en-core-web-sm==3.6.0) (1.1.3)\n",
      "Requirement already satisfied: srsly<3.0.0,>=2.4.3 in c:\\users\\jackchang\\appdata\\local\\programs\\python\\python311\\lib\\site-packages (from spacy<3.7.0,>=3.6.0->en-core-web-sm==3.6.0) (2.5.1)\n",
      "Requirement already satisfied: catalogue<2.1.0,>=2.0.6 in c:\\users\\jackchang\\appdata\\local\\programs\\python\\python311\\lib\\site-packages (from spacy<3.7.0,>=3.6.0->en-core-web-sm==3.6.0) (2.0.10)\n",
      "Requirement already satisfied: typer<0.10.0,>=0.3.0 in c:\\users\\jackchang\\appdata\\local\\programs\\python\\python311\\lib\\site-packages (from spacy<3.7.0,>=3.6.0->en-core-web-sm==3.6.0) (0.9.4)\n",
      "Requirement already satisfied: pathy>=0.10.0 in c:\\users\\jackchang\\appdata\\local\\programs\\python\\python311\\lib\\site-packages (from spacy<3.7.0,>=3.6.0->en-core-web-sm==3.6.0) (0.11.0)\n",
      "Requirement already satisfied: smart-open<7.0.0,>=5.2.1 in c:\\users\\jackchang\\appdata\\local\\programs\\python\\python311\\lib\\site-packages (from spacy<3.7.0,>=3.6.0->en-core-web-sm==3.6.0) (6.4.0)\n",
      "Requirement already satisfied: tqdm<5.0.0,>=4.38.0 in c:\\users\\jackchang\\appdata\\local\\programs\\python\\python311\\lib\\site-packages (from spacy<3.7.0,>=3.6.0->en-core-web-sm==3.6.0) (4.67.1)\n",
      "Requirement already satisfied: numpy>=1.15.0 in c:\\users\\jackchang\\appdata\\local\\programs\\python\\python311\\lib\\site-packages (from spacy<3.7.0,>=3.6.0->en-core-web-sm==3.6.0) (1.23.5)\n",
      "Requirement already satisfied: requests<3.0.0,>=2.13.0 in c:\\users\\jackchang\\appdata\\local\\programs\\python\\python311\\lib\\site-packages (from spacy<3.7.0,>=3.6.0->en-core-web-sm==3.6.0) (2.32.3)\n",
      "Requirement already satisfied: pydantic!=1.8,!=1.8.1,<3.0.0,>=1.7.4 in c:\\users\\jackchang\\appdata\\local\\programs\\python\\python311\\lib\\site-packages (from spacy<3.7.0,>=3.6.0->en-core-web-sm==3.6.0) (2.11.2)\n",
      "Requirement already satisfied: jinja2 in c:\\users\\jackchang\\appdata\\local\\programs\\python\\python311\\lib\\site-packages (from spacy<3.7.0,>=3.6.0->en-core-web-sm==3.6.0) (3.1.2)\n",
      "Requirement already satisfied: setuptools in c:\\users\\jackchang\\appdata\\local\\programs\\python\\python311\\lib\\site-packages (from spacy<3.7.0,>=3.6.0->en-core-web-sm==3.6.0) (65.5.0)\n",
      "Requirement already satisfied: packaging>=20.0 in c:\\users\\jackchang\\appdata\\roaming\\python\\python311\\site-packages (from spacy<3.7.0,>=3.6.0->en-core-web-sm==3.6.0) (23.1)\n",
      "Requirement already satisfied: langcodes<4.0.0,>=3.2.0 in c:\\users\\jackchang\\appdata\\local\\programs\\python\\python311\\lib\\site-packages (from spacy<3.7.0,>=3.6.0->en-core-web-sm==3.6.0) (3.5.0)\n",
      "Requirement already satisfied: language-data>=1.2 in c:\\users\\jackchang\\appdata\\local\\programs\\python\\python311\\lib\\site-packages (from langcodes<4.0.0,>=3.2.0->spacy<3.7.0,>=3.6.0->en-core-web-sm==3.6.0) (1.3.0)\n",
      "Requirement already satisfied: pathlib-abc==0.1.1 in c:\\users\\jackchang\\appdata\\local\\programs\\python\\python311\\lib\\site-packages (from pathy>=0.10.0->spacy<3.7.0,>=3.6.0->en-core-web-sm==3.6.0) (0.1.1)\n",
      "Requirement already satisfied: annotated-types>=0.6.0 in c:\\users\\jackchang\\appdata\\local\\programs\\python\\python311\\lib\\site-packages (from pydantic!=1.8,!=1.8.1,<3.0.0,>=1.7.4->spacy<3.7.0,>=3.6.0->en-core-web-sm==3.6.0) (0.7.0)\n",
      "Requirement already satisfied: pydantic-core==2.33.1 in c:\\users\\jackchang\\appdata\\local\\programs\\python\\python311\\lib\\site-packages (from pydantic!=1.8,!=1.8.1,<3.0.0,>=1.7.4->spacy<3.7.0,>=3.6.0->en-core-web-sm==3.6.0) (2.33.1)\n",
      "Requirement already satisfied: typing-extensions>=4.12.2 in c:\\users\\jackchang\\appdata\\local\\programs\\python\\python311\\lib\\site-packages (from pydantic!=1.8,!=1.8.1,<3.0.0,>=1.7.4->spacy<3.7.0,>=3.6.0->en-core-web-sm==3.6.0) (4.13.1)\n",
      "Requirement already satisfied: typing-inspection>=0.4.0 in c:\\users\\jackchang\\appdata\\local\\programs\\python\\python311\\lib\\site-packages (from pydantic!=1.8,!=1.8.1,<3.0.0,>=1.7.4->spacy<3.7.0,>=3.6.0->en-core-web-sm==3.6.0) (0.4.0)\n",
      "Requirement already satisfied: charset-normalizer<4,>=2 in c:\\users\\jackchang\\appdata\\local\\programs\\python\\python311\\lib\\site-packages (from requests<3.0.0,>=2.13.0->spacy<3.7.0,>=3.6.0->en-core-web-sm==3.6.0) (2.1.1)\n",
      "Requirement already satisfied: idna<4,>=2.5 in c:\\users\\jackchang\\appdata\\local\\programs\\python\\python311\\lib\\site-packages (from requests<3.0.0,>=2.13.0->spacy<3.7.0,>=3.6.0->en-core-web-sm==3.6.0) (3.4)\n",
      "Requirement already satisfied: urllib3<3,>=1.21.1 in c:\\users\\jackchang\\appdata\\local\\programs\\python\\python311\\lib\\site-packages (from requests<3.0.0,>=2.13.0->spacy<3.7.0,>=3.6.0->en-core-web-sm==3.6.0) (1.26.13)\n",
      "Requirement already satisfied: certifi>=2017.4.17 in c:\\users\\jackchang\\appdata\\local\\programs\\python\\python311\\lib\\site-packages (from requests<3.0.0,>=2.13.0->spacy<3.7.0,>=3.6.0->en-core-web-sm==3.6.0) (2022.12.7)\n",
      "Requirement already satisfied: blis<0.8.0,>=0.7.8 in c:\\users\\jackchang\\appdata\\local\\programs\\python\\python311\\lib\\site-packages (from thinc<8.2.0,>=8.1.8->spacy<3.7.0,>=3.6.0->en-core-web-sm==3.6.0) (0.7.11)\n",
      "Requirement already satisfied: confection<1.0.0,>=0.0.1 in c:\\users\\jackchang\\appdata\\local\\programs\\python\\python311\\lib\\site-packages (from thinc<8.2.0,>=8.1.8->spacy<3.7.0,>=3.6.0->en-core-web-sm==3.6.0) (0.1.5)\n",
      "Requirement already satisfied: colorama in c:\\users\\jackchang\\appdata\\roaming\\python\\python311\\site-packages (from tqdm<5.0.0,>=4.38.0->spacy<3.7.0,>=3.6.0->en-core-web-sm==3.6.0) (0.4.6)\n",
      "Requirement already satisfied: click<9.0.0,>=7.1.1 in c:\\users\\jackchang\\appdata\\local\\programs\\python\\python311\\lib\\site-packages (from typer<0.10.0,>=0.3.0->spacy<3.7.0,>=3.6.0->en-core-web-sm==3.6.0) (8.1.7)\n",
      "Requirement already satisfied: MarkupSafe>=2.0 in c:\\users\\jackchang\\appdata\\local\\programs\\python\\python311\\lib\\site-packages (from jinja2->spacy<3.7.0,>=3.6.0->en-core-web-sm==3.6.0) (2.1.2)\n",
      "Requirement already satisfied: marisa-trie>=1.1.0 in c:\\users\\jackchang\\appdata\\local\\programs\\python\\python311\\lib\\site-packages (from language-data>=1.2->langcodes<4.0.0,>=3.2.0->spacy<3.7.0,>=3.6.0->en-core-web-sm==3.6.0) (1.2.1)\n",
      "Installing collected packages: en-core-web-sm\n",
      "Successfully installed en-core-web-sm-3.6.0\n",
      "\u001b[38;5;2m✔ Download and installation successful\u001b[0m\n",
      "You can now load the package via spacy.load('en_core_web_sm')\n"
     ]
    },
    {
     "name": "stderr",
     "output_type": "stream",
     "text": [
      "\n",
      "[notice] A new release of pip is available: 23.2.1 -> 25.0.1\n",
      "[notice] To update, run: python.exe -m pip install --upgrade pip\n"
     ]
    }
   ],
   "source": [
    "#!python -m spacy download en_core_web_sm"
   ]
  },
  {
   "cell_type": "code",
   "execution_count": null,
   "id": "d6e2408c",
   "metadata": {},
   "outputs": [],
   "source": [
    "import spacy\n",
    "from spacy.matcher import PhraseMatcher\n",
    "\n",
    "nlp = spacy.load(\"en_core_web_sm\")\n",
    "matcher = PhraseMatcher(nlp.vocab, attr=\"LOWER\")\n",
    "\n",
    "\n",
    "patterns = [nlp.make_doc(word) for word in slang_dict.keys()]\n",
    "matcher.add(\"SLANG\", patterns)\n",
    "\n",
    "def extract_slang_phrases(text):\n",
    "    doc = nlp(text)\n",
    "    matches = matcher(doc)\n",
    "    found = set()\n",
    "    for match_id, start, end in matches:\n",
    "        phrase = doc[start:end].text.lower()\n",
    "        found.add(phrase)\n",
    "    return list(found)"
   ]
  },
  {
   "cell_type": "code",
   "execution_count": 16,
   "id": "d61dda48",
   "metadata": {},
   "outputs": [
    {
     "name": "stdout",
     "output_type": "stream",
     "text": [
      "slang: ['ghosted']\n"
     ]
    }
   ],
   "source": [
    "text = \"She totally ghosted him after the date. That party was lit!\"\n",
    "slangs = extract_slang_phrases(text)\n",
    "print(\"slang:\", slangs)"
   ]
  },
  {
   "cell_type": "code",
   "execution_count": 27,
   "id": "8450fda5",
   "metadata": {},
   "outputs": [
    {
     "name": "stderr",
     "output_type": "stream",
     "text": [
      "Hardware accelerator e.g. GPU is available in the environment, but no `device` argument is passed to the `Pipeline` object. Model will be on CPU.\n"
     ]
    }
   ],
   "source": [
    "from transformers import pipeline, set_seed\n",
    "\n",
    "generator = pipeline(\"text-generation\", model=\"gpt2-medium\")\n",
    "set_seed(42)\n",
    "\n",
    "def generate_example(slang, definition):\n",
    "    prompt = f\"Write a  English sentence using the slang word '{slang}' to help people understand its meaning. which its meaning is: {definition}\"\n",
    "    output = generator(prompt, max_length=150, num_return_sequences=1, truncation=True)\n",
    "    return output[0]['generated_text'].replace(prompt, \"\").strip()\n"
   ]
  },
  {
   "cell_type": "code",
   "execution_count": 29,
   "id": "5a65ee52",
   "metadata": {},
   "outputs": [
    {
     "name": "stderr",
     "output_type": "stream",
     "text": [
      "Setting `pad_token_id` to `eos_token_id`:None for open-end generation.\n"
     ]
    },
    {
     "name": "stdout",
     "output_type": "stream",
     "text": [
      " Slang: ghosted\n",
      " Definition: When a person expresses love, interest, or affection for someone or something and the person they are speaking to only says 'Ditto', like Patrick Swayze in the movie Ghost.\n",
      " Example: (or similar)\n",
      "\n",
      "I got a friend here in this town who can tell an English sentence using the slang word 'ghosted' to help people understand its meaning. which its meaning is: When a person expresses love, interest, or affection for someone or something and the person they are speaking to only says 'Ditto', like Patrick Swayze in the movie Ghost.\n",
      "\n",
      "2.\n",
      "\n",
      "What is the\n",
      "\n"
     ]
    }
   ],
   "source": [
    "for slang in slangs:\n",
    "    definition = slang_dict.get(slang, \"No definition found.\")\n",
    "    example = generate_example(slang,definition)\n",
    "    print(f\" Slang: {slang}\\n Definition: {definition}\\n Example: {example}\\n\")"
   ]
  },
  {
   "cell_type": "markdown",
   "id": "42090156",
   "metadata": {},
   "source": [
    "improvment:  \n",
    "应该搭建一个detect slang的模型 现在这个就是单纯的对比有没有 不太行 套个bert来试试finetune成标注模型 数据可以再好好清洗一下   \n",
    "gpt2生成的例句太垃圾了 可能得换个模型 自己训练模型不太可能 没有那么大算力 "
   ]
  },
  {
   "cell_type": "markdown",
   "id": "50af720b",
   "metadata": {},
   "source": [
    "网页实时转换没想好怎么实现会比较好一点 可能最开始的时候识别完再转？"
   ]
  }
 ],
 "metadata": {
  "kernelspec": {
   "display_name": "Python 3",
   "language": "python",
   "name": "python3"
  },
  "language_info": {
   "codemirror_mode": {
    "name": "ipython",
    "version": 3
   },
   "file_extension": ".py",
   "mimetype": "text/x-python",
   "name": "python",
   "nbconvert_exporter": "python",
   "pygments_lexer": "ipython3",
   "version": "3.11.4"
  }
 },
 "nbformat": 4,
 "nbformat_minor": 5
}
