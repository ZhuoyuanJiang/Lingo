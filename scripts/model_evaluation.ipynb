{
 "cells": [
  {
   "cell_type": "code",
   "execution_count": null,
   "metadata": {},
   "outputs": [],
   "source": []
  },
  {
   "cell_type": "markdown",
   "metadata": {},
   "source": [
    "# 1. Set Up "
   ]
  },
  {
   "cell_type": "code",
   "execution_count": 1,
   "metadata": {},
   "outputs": [
    {
     "name": "stderr",
     "output_type": "stream",
     "text": [
      "c:\\Users\\jiang\\anaconda3\\envs\\lingo_win\\lib\\site-packages\\tqdm\\auto.py:21: TqdmWarning: IProgress not found. Please update jupyter and ipywidgets. See https://ipywidgets.readthedocs.io/en/stable/user_install.html\n",
      "  from .autonotebook import tqdm as notebook_tqdm\n"
     ]
    }
   ],
   "source": [
    "import os\n",
    "import sys\n",
    "import json\n",
    "import torch\n",
    "import matplotlib.pyplot as plt\n",
    "from pathlib import Path\n",
    "from sklearn.metrics import classification_report, precision_recall_fscore_support\n",
    "from transformers import AutoModelForCausalLM, AutoTokenizer, BitsAndBytesConfig\n",
    "from peft import PeftModel, PeftConfig"
   ]
  },
  {
   "cell_type": "code",
   "execution_count": 2,
   "metadata": {},
   "outputs": [
    {
     "name": "stdout",
     "output_type": "stream",
     "text": [
      "Added c:\\Users\\jiang\\Desktop\\Projects\\Lingo to Python path\n",
      "Project root: c:\\Users\\jiang\\Desktop\\Projects\\Lingo\n",
      "Model path: c:\\Users\\jiang\\Desktop\\Projects\\Lingo\\models\\text_models\n",
      "Test data path: c:\\Users\\jiang\\Desktop\\Projects\\Lingo\\data\\processed\\text\\test.json\n"
     ]
    }
   ],
   "source": [
    "# Add project root to path\n",
    "project_root = os.path.abspath(os.path.join(os.getcwd(), '..'))\n",
    "if project_root not in sys.path:\n",
    "    sys.path.insert(0, project_root)\n",
    "    print(f\"Added {project_root} to Python path\")\n",
    "\n",
    "# Set paths\n",
    "model_path = os.path.join(project_root, \"models\", \"text_models\")\n",
    "processed_data_dir = os.path.join(project_root, \"data\", \"processed\", \"text\")\n",
    "test_data_path = os.path.join(processed_data_dir, \"test.json\")\n",
    "results_dir = os.path.join(project_root, \"results\", \"text_models\")\n",
    "os.makedirs(results_dir, exist_ok=True)\n",
    "\n",
    "print(f\"Project root: {project_root}\")\n",
    "print(f\"Model path: {model_path}\")\n",
    "print(f\"Test data path: {test_data_path}\")"
   ]
  },
  {
   "cell_type": "code",
   "execution_count": 3,
   "metadata": {},
   "outputs": [
    {
     "name": "stdout",
     "output_type": "stream",
     "text": [
      "GPU available: NVIDIA GeForce RTX 4070 Laptop GPU\n",
      "GPU memory: 8.59 GB\n"
     ]
    }
   ],
   "source": [
    "# Check GPU availability\n",
    "if torch.cuda.is_available():\n",
    "    print(f\"GPU available: {torch.cuda.get_device_name(0)}\")\n",
    "    print(f\"GPU memory: {torch.cuda.get_device_properties(0).total_memory / 1e9:.2f} GB\")\n",
    "else:\n",
    "    print(\"WARNING: No GPU detected! Evaluation will be very slow.\")"
   ]
  },
  {
   "cell_type": "markdown",
   "metadata": {},
   "source": [
    "# 2.Check Model Files"
   ]
  },
  {
   "cell_type": "code",
   "execution_count": 4,
   "metadata": {},
   "outputs": [
    {
     "name": "stdout",
     "output_type": "stream",
     "text": [
      "Checking files in c:\\Users\\jiang\\Desktop\\Projects\\Lingo\\models\\text_models...\n",
      "Found 15 files/directories:\n",
      "  - adapter_config.json (844)\n",
      "  - adapter_model.safetensors (17462432)\n",
      "  - added_tokens.json (629)\n",
      "  - all_results.json (245)\n",
      "  - checkpoint-1248 (directory)\n",
      "  - checkpoint-1872 (directory)\n",
      "  - merges.txt (1671853)\n",
      "  - README.md (5100)\n",
      "  - special_tokens_map.json (644)\n",
      "  - tokenizer.json (11421896)\n",
      "  - tokenizer_config.json (7544)\n",
      "  - trainer_state.json (8480)\n",
      "  - training_args.bin (5368)\n",
      "  - train_results.json (245)\n",
      "  - vocab.json (2776833)\n"
     ]
    }
   ],
   "source": [
    "# Check model files\n",
    "print(f\"Checking files in {model_path}...\")\n",
    "\n",
    "if os.path.exists(model_path):\n",
    "    files = os.listdir(model_path)\n",
    "    print(f\"Found {len(files)} files/directories:\")\n",
    "    for file in files:\n",
    "        file_path = os.path.join(model_path, file)\n",
    "        file_size = os.path.getsize(file_path) if os.path.isfile(file_path) else \"directory\"\n",
    "        print(f\"  - {file} ({file_size})\")\n",
    "else:\n",
    "    print(f\"Directory {model_path} does not exist!\")"
   ]
  },
  {
   "cell_type": "markdown",
   "metadata": {},
   "source": [
    "# 3. Load Model and Tokenizer"
   ]
  },
  {
   "cell_type": "code",
   "execution_count": 5,
   "metadata": {},
   "outputs": [
    {
     "name": "stdout",
     "output_type": "stream",
     "text": [
      "Loading configuration from c:\\Users\\jiang\\Desktop\\Projects\\Lingo\\models\\text_models...\n",
      "Base model: Qwen/Qwen2.5-1.5B-Instruct\n",
      "Loading tokenizer from base model: Qwen/Qwen2.5-1.5B-Instruct\n",
      "Loading base model...\n"
     ]
    },
    {
     "name": "stderr",
     "output_type": "stream",
     "text": [
      "Sliding Window Attention is enabled but not implemented for `sdpa`; unexpected results may be encountered.\n"
     ]
    },
    {
     "name": "stdout",
     "output_type": "stream",
     "text": [
      "Loading adapter weights...\n",
      "Model and tokenizer loaded successfully\n"
     ]
    }
   ],
   "source": [
    "# Load model configuration\n",
    "print(f\"Loading configuration from {model_path}...\")\n",
    "config = PeftConfig.from_pretrained(model_path)\n",
    "base_model_name = config.base_model_name_or_path\n",
    "print(f\"Base model: {base_model_name}\")\n",
    "\n",
    "# Load tokenizer from base model\n",
    "print(f\"Loading tokenizer from base model: {base_model_name}\")\n",
    "tokenizer = AutoTokenizer.from_pretrained(base_model_name)\n",
    "\n",
    "# Load base model with quantization\n",
    "print(\"Loading base model...\")\n",
    "model = AutoModelForCausalLM.from_pretrained(\n",
    "    base_model_name,\n",
    "    device_map=\"auto\",\n",
    "    torch_dtype=torch.bfloat16,\n",
    "    quantization_config=BitsAndBytesConfig(load_in_4bit=True)\n",
    ")\n",
    "\n",
    "# Load adapter weights\n",
    "print(\"Loading adapter weights...\")\n",
    "model = PeftModel.from_pretrained(model, model_path)\n",
    "model.eval()  # Set to evaluation mode\n",
    "\n",
    "print(\"Model and tokenizer loaded successfully\")"
   ]
  },
  {
   "cell_type": "markdown",
   "metadata": {},
   "source": [
    "# 4.Define Response Generation Function"
   ]
  },
  {
   "cell_type": "code",
   "execution_count": 6,
   "metadata": {},
   "outputs": [],
   "source": [
    "# Prompt version 1 (should be deprecated)\n",
    "def generate_response(instruction, max_new_tokens=100):\n",
    "    \"\"\"Generate a response from the model for a given instruction\"\"\"\n",
    "    # Format the prompt using triple quotes for multi-line strings\n",
    "    prompt = f\"\"\"Identify any slang in this text: \"{instruction}\". \n",
    "If there is no slang, respond with 'no slang detected'; \n",
    "if there is slang, respond with \"slang detected: <slang word> \\n slang context: <slang context>\". \n",
    "Usually, slang context is the input sentence or sentences before and after input sentence (input sentence included). \n",
    "The context is anything that is needed to understand why the detected slang word is slang. Context should not be made up, it should be a subset in the instruction.\"\"\"\n",
    "    \n",
    "    inputs = tokenizer(prompt, return_tensors=\"pt\").to(model.device)\n",
    "    \n",
    "    # Rest of your function remains the same\n",
    "    with torch.no_grad():\n",
    "        outputs = model.generate(\n",
    "            **inputs,\n",
    "            max_new_tokens=max_new_tokens,\n",
    "            # temperature=0.1,  # Lower temperature for more focused responses if do_sample is True\n",
    "            do_sample=False, # greedy decoding vs enables randomness in generation\n",
    "            pad_token_id=tokenizer.eos_token_id\n",
    "        )\n",
    "    \n",
    "    response = tokenizer.decode(outputs[0], skip_special_tokens=True)\n",
    "    \n",
    "    # Extract just the model's response (remove the prompt)\n",
    "    if prompt in response:\n",
    "        response = response[len(prompt):].strip()\n",
    "    \n",
    "    return response"
   ]
  },
  {
   "cell_type": "code",
   "execution_count": 7,
   "metadata": {},
   "outputs": [],
   "source": [
    "# Prompt Version 2 \n",
    "def generate_response(instruction, max_new_tokens=100):\n",
    "    \"\"\"Generate a response from the model for a given instruction\"\"\"\n",
    "    # Format the prompt using Qwen's chat format with special tokens\n",
    "    system_prompt = \"\"\"You are a slang detection assistant. Your task is to identify slang in text.\n",
    "If there is no slang, respond with 'no slang detected'.\n",
    "If there is slang, respond with \"slang detected: <slang word>\\nslang context: <slang context>\".\n",
    "The slang context should be the part of the input that contains the slang.\n",
    "Only identify slang that appears in the input text.\n",
    "Do not generate or list offensive language.\"\"\"\n",
    "\n",
    "    user_message = f\"\"\"Identify any slang in this text: \"{instruction}\".\"\"\"\n",
    "    \n",
    "    # Combine into Qwen's chat format\n",
    "    prompt = f\"<|im_start|>system\\n{system_prompt}<|im_end|>\\n<|im_start|>user\\n{user_message}<|im_end|>\\n<|im_start|>assistant\\n\"\n",
    "    \n",
    "    inputs = tokenizer(prompt, return_tensors=\"pt\").to(model.device)\n",
    "    \n",
    "    with torch.no_grad():\n",
    "        outputs = model.generate(\n",
    "            **inputs,\n",
    "            max_new_tokens=max_new_tokens,\n",
    "            do_sample=False,  # Use greedy decoding for deterministic responses\n",
    "            pad_token_id=tokenizer.eos_token_id\n",
    "        )\n",
    "    \n",
    "    response = tokenizer.decode(outputs[0], skip_special_tokens=False)\n",
    "    \n",
    "    # Extract just the assistant's response\n",
    "    assistant_response = response.split(\"<|im_start|>assistant\\n\")[-1].split(\"<|im_end|>\")[0]\n",
    "    \n",
    "    return assistant_response.strip()"
   ]
  },
  {
   "cell_type": "code",
   "execution_count": 8,
   "metadata": {},
   "outputs": [
    {
     "name": "stdout",
     "output_type": "stream",
     "text": [
      "\n",
      "Input: She ghosted me after our second date, no clue what happened\n"
     ]
    },
    {
     "name": "stderr",
     "output_type": "stream",
     "text": [
      "c:\\Users\\jiang\\anaconda3\\envs\\lingo_win\\lib\\site-packages\\transformers\\generation\\configuration_utils.py:631: UserWarning: `do_sample` is set to `False`. However, `temperature` is set to `0.7` -- this flag is only used in sample-based generation modes. You should set `do_sample=True` or unset `temperature`.\n",
      "  warnings.warn(\n",
      "c:\\Users\\jiang\\anaconda3\\envs\\lingo_win\\lib\\site-packages\\transformers\\generation\\configuration_utils.py:636: UserWarning: `do_sample` is set to `False`. However, `top_p` is set to `0.8` -- this flag is only used in sample-based generation modes. You should set `do_sample=True` or unset `top_p`.\n",
      "  warnings.warn(\n",
      "c:\\Users\\jiang\\anaconda3\\envs\\lingo_win\\lib\\site-packages\\transformers\\generation\\configuration_utils.py:653: UserWarning: `do_sample` is set to `False`. However, `top_k` is set to `20` -- this flag is only used in sample-based generation modes. You should set `do_sample=True` or unset `top_k`.\n",
      "  warnings.warn(\n"
     ]
    },
    {
     "name": "stdout",
     "output_type": "stream",
     "text": [
      "Response: slang detected: ghosted\n",
      "slang context: She ghosted me after our second date, no clue what happened.\n",
      "--------------------------------------------------\n",
      "\n",
      "Input: I am cooked on that midterm\n",
      "Response: slang detected: cooked\n",
      "slang context: I am cooked on that midterm.\n",
      "--------------------------------------------------\n",
      "\n",
      "Input: He‘s always flexing his new car on Instagram\n",
      "Response: slang detected: flexing\n",
      "slang context: He's always flexing his new car on Instagram\n",
      "--------------------------------------------------\n",
      "\n",
      "Input: Hi, how are you?\n",
      "Response: no slang detected\n",
      "--------------------------------------------------\n"
     ]
    }
   ],
   "source": [
    "# Test with a few examples\n",
    "test_examples = [\n",
    "    \"She ghosted me after our second date, no clue what happened\",\n",
    "    \"I am cooked on that midterm\",\n",
    "    \"He‘s always flexing his new car on Instagram\",\n",
    "    \"Hi, how are you?\"\n",
    "]\n",
    "\n",
    "for example in test_examples:\n",
    "    print(f\"\\nInput: {example}\")\n",
    "    response = generate_response(example)\n",
    "    print(f\"Response: {response}\")\n",
    "    print(\"-\" * 50)"
   ]
  },
  {
   "cell_type": "markdown",
   "metadata": {},
   "source": [
    "# 5. Analyze Training History"
   ]
  },
  {
   "cell_type": "code",
   "execution_count": 9,
   "metadata": {},
   "outputs": [
    {
     "name": "stdout",
     "output_type": "stream",
     "text": [
      "Loading training history from c:\\Users\\jiang\\Desktop\\Projects\\Lingo\\models\\text_models\\trainer_state.json\n"
     ]
    },
    {
     "data": {
      "image/png": "[encoded data removed]",
      "text/plain": [
       "<Figure size 1200x1000 with 2 Axes>"
      ]
     },
     "metadata": {},
     "output_type": "display_data"
    },
    {
     "name": "stdout",
     "output_type": "stream",
     "text": [
      "\n",
      "Loss at each epoch end:\n",
      "Epoch 1 (Step 624): Training Loss = 0.943000, Validation Loss = 0.939457\n",
      "Epoch 2 (Step 1248): Training Loss = 0.916700, Validation Loss = 0.933884\n",
      "Epoch 3 (Step 1872): Training Loss = 0.891700, Validation Loss = 0.935180\n",
      "\n",
      "Validation Loss Changes:\n",
      "Epoch 1 → 2: 0.939457 → 0.933884 (Change: -0.005573, -0.59%)\n",
      "Epoch 2 → 3: 0.933884 → 0.935180 (Change: 0.001296, +0.14%)\n",
      "Final training loss: 0.891700\n",
      "Final validation loss: 0.935180\n"
     ]
    }
   ],
   "source": [
    "# Load training history\n",
    "history_path = os.path.join(model_path, \"trainer_state.json\")\n",
    "print(f\"Loading training history from {history_path}\")\n",
    "\n",
    "with open(history_path, \"r\") as f:\n",
    "    training_history = json.load(f)\n",
    "\n",
    "# Extract all loss values with their steps\n",
    "steps = []\n",
    "train_losses = []\n",
    "eval_steps = []\n",
    "eval_losses = []\n",
    "\n",
    "for entry in training_history[\"log_history\"]:\n",
    "    if \"loss\" in entry and \"eval_loss\" not in entry:\n",
    "        steps.append(entry.get(\"step\", 0))\n",
    "        train_losses.append(entry[\"loss\"])\n",
    "    if \"eval_loss\" in entry:\n",
    "        eval_steps.append(entry.get(\"step\", 0))\n",
    "        eval_losses.append(entry[\"eval_loss\"])\n",
    "\n",
    "# Create a figure with two subplots\n",
    "fig, (ax1, ax2) = plt.subplots(2, 1, figsize=(12, 10), gridspec_kw={'height_ratios': [2, 1]})\n",
    "\n",
    "# Plot 1: Full training and validation loss\n",
    "ax1.plot(steps, train_losses, 'b-', label=\"Training Loss\")\n",
    "ax1.plot(eval_steps, eval_losses, 'ro-', label=\"Validation Loss\", markersize=8)\n",
    "\n",
    "# Add epoch boundaries\n",
    "for epoch_end in eval_steps:\n",
    "    ax1.axvline(x=epoch_end, color='gray', linestyle='--', alpha=0.5)\n",
    "\n",
    "# Add labels and title\n",
    "ax1.set_xlabel(\"Training Steps\")\n",
    "ax1.set_ylabel(\"Loss\")\n",
    "ax1.set_title(\"Training and Validation Loss\")\n",
    "ax1.legend()\n",
    "ax1.grid(True)\n",
    "\n",
    "# Add annotations for epoch ends\n",
    "for i, step in enumerate(eval_steps):\n",
    "    ax1.annotate(f\"Epoch {i+1}\", \n",
    "                xy=(step, min(train_losses) + 0.05), \n",
    "                xytext=(step-100, min(train_losses) + 0.05),\n",
    "                arrowprops=dict(arrowstyle=\"->\"))\n",
    "\n",
    "# Plot 2: Zoomed in on validation loss\n",
    "ax2.plot(eval_steps, eval_losses, 'ro-', label=\"Validation Loss\", markersize=8)\n",
    "for i, (step, loss) in enumerate(zip(eval_steps, eval_losses)):\n",
    "    ax2.annotate(f\"{loss:.6f}\", \n",
    "                xy=(step, loss), \n",
    "                xytext=(step+10, loss),\n",
    "                fontsize=10)\n",
    "\n",
    "# Set y-axis limits to zoom in on validation loss\n",
    "min_val = min(eval_losses) - 0.01\n",
    "max_val = max(eval_losses) + 0.01\n",
    "ax2.set_ylim(min_val, max_val)\n",
    "\n",
    "# Add labels\n",
    "ax2.set_xlabel(\"Training Steps\")\n",
    "ax2.set_ylabel(\"Validation Loss\")\n",
    "ax2.set_title(\"Validation Loss (Zoomed)\")\n",
    "ax2.grid(True)\n",
    "\n",
    "plt.tight_layout()\n",
    "plt.show()\n",
    "\n",
    "\n",
    "# Print loss at each epoch end\n",
    "print(\"\\nLoss at each epoch end:\")\n",
    "for i, (step, eval_loss) in enumerate(zip(eval_steps, eval_losses)):\n",
    "    # Find the closest training loss to this step\n",
    "    closest_idx = min(range(len(steps)), key=lambda i: abs(steps[i] - step))\n",
    "    train_loss = train_losses[closest_idx]\n",
    "    print(f\"Epoch {i+1} (Step {step}): Training Loss = {train_loss:.6f}, Validation Loss = {eval_loss:.6f}\")\n",
    "\n",
    "\n",
    "# Calculate validation loss changes\n",
    "if len(eval_losses) > 1:\n",
    "    print(\"\\nValidation Loss Changes:\")\n",
    "    for i in range(1, len(eval_losses)):\n",
    "        change = eval_losses[i] - eval_losses[i-1]\n",
    "        percent = (change / eval_losses[i-1]) * 100\n",
    "        print(f\"Epoch {i} → {i+1}: {eval_losses[i-1]:.6f} → {eval_losses[i]:.6f} \" +\n",
    "              f\"(Change: {change:.6f}, {percent:+.2f}%)\")\n",
    "\n",
    "# Print final losses\n",
    "print(f\"Final training loss: {train_losses[-1]:.6f}\")\n",
    "print(f\"Final validation loss: {eval_losses[-1]:.6f}\")\n",
    "\n"
   ]
  },
  {
   "cell_type": "markdown",
   "metadata": {},
   "source": [
    "# 6. Evaluate on Test Data     "
   ]
  },
  {
   "cell_type": "code",
   "execution_count": 10,
   "metadata": {},
   "outputs": [
    {
     "name": "stdout",
     "output_type": "stream",
     "text": [
      "Loading test data from c:\\Users\\jiang\\Desktop\\Projects\\Lingo\\data\\processed\\text\\test.json...\n",
      "Loaded 1248 test examples\n",
      "Evaluating on 5 examples (out of 1248)\n",
      "[{'instruction': 'Identify any slang in this video subtitle: \"She aint gonna fight you.\"', 'input': '', 'output': \"slang detected: ain't\\nslang context: She aint gonna fight you.\"}, {'instruction': 'Identify any slang in this video subtitle: \"Yeah, there\\'s been none of that on the trip.\"', 'input': '', 'output': \"slang detected: yeah\\nslang context: Yeah, there's been none of that on the trip.\"}, {'instruction': 'Identify any slang in this video subtitle: \"Now I\\'ve got your fucking little weasel of a brother trying to turn Bluey against me.\"', 'input': '', 'output': \"slang detected: fucking\\nslang context: Now I've got your fucking little weasel of a brother trying to turn Bluey against me.\"}, {'instruction': 'Identify any slang in this video subtitle: \"I thought maybe, by coming back here,\"', 'input': '', 'output': 'no slang detected'}, {'instruction': 'Identify any slang in this video subtitle: \"Your class or Mr Irwin\\'s.\"', 'input': '', 'output': 'no slang detected'}]\n",
      "Processing example 1/5\n",
      "instruction: Identify any slang in this video subtitle: \"She aint gonna fight you.\"\n",
      "response: slang detected: ain't\n",
      "slang context: She aint gonna fight you.\n",
      "prediction: 1\n",
      "test_subset output: slang detected: ain't\n",
      "slang context: She aint gonna fight you.\n",
      "ground_truth: 1\n",
      "Processing example 2/5\n",
      "instruction: Identify any slang in this video subtitle: \"Yeah, there's been none of that on the trip.\"\n",
      "response: no slang detected\n",
      "prediction: 0\n",
      "test_subset output: slang detected: yeah\n",
      "slang context: Yeah, there's been none of that on the trip.\n",
      "ground_truth: 1\n",
      "Processing example 3/5\n",
      "instruction: Identify any slang in this video subtitle: \"Now I've got your fucking little weasel of a brother trying to turn Bluey against me.\"\n",
      "response: slang detected: fucking\n",
      "slang context: Now I've got your fucking little weasel of a brother trying to turn Bluey against me.\n",
      "prediction: 1\n",
      "test_subset output: slang detected: fucking\n",
      "slang context: Now I've got your fucking little weasel of a brother trying to turn Bluey against me.\n",
      "ground_truth: 1\n",
      "Processing example 4/5\n",
      "instruction: Identify any slang in this video subtitle: \"I thought maybe, by coming back here,\"\n",
      "response: no slang detected\n",
      "prediction: 0\n",
      "test_subset output: no slang detected\n",
      "ground_truth: 0\n",
      "Processing example 5/5\n",
      "instruction: Identify any slang in this video subtitle: \"Your class or Mr Irwin's.\"\n",
      "response: no slang detected\n",
      "prediction: 0\n",
      "test_subset output: no slang detected\n",
      "ground_truth: 0\n"
     ]
    }
   ],
   "source": [
    "# Visualize the test procedure using just some examples \n",
    "\n",
    "# Load test data\n",
    "print(f\"Loading test data from {test_data_path}...\")\n",
    "with open(test_data_path, \"r\") as f:\n",
    "    test_data = json.load(f)\n",
    "print(f\"Loaded {len(test_data)} test examples\")\n",
    "\n",
    "# Evaluate on a subset first (for quick testing)\n",
    "max_examples = 5  # Adjust here!\n",
    "print(f\"Evaluating on {max_examples} examples (out of {len(test_data)})\")\n",
    "test_subset = test_data[:max_examples]\n",
    "\n",
    "print(test_subset)\n",
    "\n",
    "predictions = []\n",
    "true_labels = []\n",
    "examples = []\n",
    "\n",
    "for i, example in enumerate(test_subset):\n",
    "    print(f\"Processing example {i+1}/{len(test_subset)}\")\n",
    "        \n",
    "    # Get model prediction\n",
    "    instruction = example[\"instruction\"]\n",
    "    response = generate_response(instruction)\n",
    "    \n",
    "    print(f\"instruction: {instruction}\")\n",
    "    print(f\"response: {response}\")\n",
    "\n",
    "    # Process prediction to extract slang/no-slang classification\n",
    "    prediction = 0 if \"no slang detected\" in response.lower() else 1 \n",
    "    print(f\"prediction: {prediction}\")\n",
    "    \n",
    "    # Get ground truth\n",
    "    ground_truth = 0 if \"no slang detected\" in example[\"output\"].lower() else 1\n",
    "    print(f\"test_subset output: {example['output']}\")\n",
    "    print(f\"ground_truth: {ground_truth}\")\n",
    "\n",
    "    predictions.append(prediction)\n",
    "    true_labels.append(ground_truth)\n",
    "    \n",
    "    # Save example for analysis\n",
    "    examples.append({\n",
    "        \"instruction\": instruction,\n",
    "        \"model_response\": response,\n",
    "        \"prediction\": prediction,\n",
    "        \"ground_truth\": ground_truth,\n",
    "        \"correct\": prediction == ground_truth\n",
    "    })"
   ]
  },
  {
   "cell_type": "code",
   "execution_count": 14,
   "metadata": {},
   "outputs": [
    {
     "name": "stdout",
     "output_type": "stream",
     "text": [
      "Loading test data from c:\\Users\\jiang\\Desktop\\Projects\\Lingo\\data\\processed\\text\\test.json...\n",
      "Loaded 1248 test examples\n",
      "Evaluating on 500 examples (out of 1248)\n",
      "Progress: 0/1248 examples processed (0.0%) - Elapsed time: 0.0s\n"
     ]
    },
    {
     "name": "stderr",
     "output_type": "stream",
     "text": [
      "c:\\Users\\jiang\\anaconda3\\envs\\lingo_win\\lib\\site-packages\\transformers\\generation\\configuration_utils.py:631: UserWarning: `do_sample` is set to `False`. However, `temperature` is set to `0.7` -- this flag is only used in sample-based generation modes. You should set `do_sample=True` or unset `temperature`.\n",
      "  warnings.warn(\n",
      "c:\\Users\\jiang\\anaconda3\\envs\\lingo_win\\lib\\site-packages\\transformers\\generation\\configuration_utils.py:636: UserWarning: `do_sample` is set to `False`. However, `top_p` is set to `0.8` -- this flag is only used in sample-based generation modes. You should set `do_sample=True` or unset `top_p`.\n",
      "  warnings.warn(\n",
      "c:\\Users\\jiang\\anaconda3\\envs\\lingo_win\\lib\\site-packages\\transformers\\generation\\configuration_utils.py:653: UserWarning: `do_sample` is set to `False`. However, `top_k` is set to `20` -- this flag is only used in sample-based generation modes. You should set `do_sample=True` or unset `top_k`.\n",
      "  warnings.warn(\n"
     ]
    },
    {
     "name": "stdout",
     "output_type": "stream",
     "text": [
      "Progress: 100/1248 examples processed (8.0%) - Elapsed time: 129.6s\n",
      "Progress: 200/1248 examples processed (16.0%) - Elapsed time: 233.3s\n",
      "Progress: 300/1248 examples processed (24.0%) - Elapsed time: 373.4s\n",
      "Progress: 400/1248 examples processed (32.1%) - Elapsed time: 498.4s\n"
     ]
    }
   ],
   "source": [
    "# Test with all examples and use this to calculate metrics\n",
    "\n",
    "print(f\"Loading test data from {test_data_path}...\")\n",
    "with open(test_data_path, \"r\") as f:\n",
    "    test_data = json.load(f)\n",
    "print(f\"Loaded {len(test_data)} test examples\")\n",
    "\n",
    "# Evaluate on a subset first (for quick testing)\n",
    "max_examples = 500  # Adjust here!\n",
    "print(f\"Evaluating on {max_examples} examples (out of {len(test_data)})\")\n",
    "test_subset = test_data[:max_examples]\n",
    "\n",
    "# print(test_subset)\n",
    "\n",
    "predictions = []\n",
    "true_labels = []\n",
    "examples = []\n",
    "\n",
    "# Add time tracking\n",
    "import time\n",
    "start_time = time.time()\n",
    "\n",
    "for i, example in enumerate(test_subset):\n",
    "    # Print progress every 100 examples\n",
    "    if i % 100 == 0:\n",
    "        elapsed = time.time() - start_time\n",
    "        print(f\"Progress: {i}/{len(test_data)} examples processed ({i/len(test_data)*100:.1f}%) - Elapsed time: {elapsed:.1f}s\")\n",
    "                \n",
    "    # Get model prediction\n",
    "    instruction = example[\"instruction\"]\n",
    "    response = generate_response(instruction)\n",
    "    \n",
    "    # print(f\"instruction: {instruction}\")\n",
    "    # print(f\"response: {response}\")\n",
    "\n",
    "    # Process prediction to extract slang/no-slang classification\n",
    "    prediction = 0 if \"no slang detected\" in response.lower() else 1 \n",
    "    #print(f\"prediction: {prediction}\")\n",
    "    \n",
    "    # Get ground truth\n",
    "    ground_truth = 0 if \"no slang detected\" in example[\"output\"].lower() else 1\n",
    "    # print(f\"test_subset output: {example['output']}\")\n",
    "    # print(f\"ground_truth: {ground_truth}\")\n",
    "\n",
    "    predictions.append(prediction)\n",
    "    true_labels.append(ground_truth)\n",
    "    \n",
    "    # Save example for analysis\n",
    "    examples.append({\n",
    "        \"instruction\": instruction,\n",
    "        \"model_response\": response,\n",
    "        \"prediction\": prediction,\n",
    "        \"ground_truth\": ground_truth,\n",
    "        \"correct\": prediction == ground_truth\n",
    "    })"
   ]
  },
  {
   "cell_type": "markdown",
   "metadata": {},
   "source": [
    "# 7. Calculate and Display Metrics"
   ]
  },
  {
   "cell_type": "code",
   "execution_count": 12,
   "metadata": {},
   "outputs": [
    {
     "name": "stdout",
     "output_type": "stream",
     "text": [
      "\n",
      "==================================================\n",
      "Evaluation Results:\n",
      "Precision: 0.7666\n",
      "Recall: 0.7864\n",
      "F1 Score: 0.7764\n",
      "\n",
      "Detailed Classification Report:\n",
      "              precision    recall  f1-score   support\n",
      "\n",
      "           0       0.64      0.61      0.63       191\n",
      "           1       0.77      0.79      0.78       309\n",
      "\n",
      "    accuracy                           0.72       500\n",
      "   macro avg       0.70      0.70      0.70       500\n",
      "weighted avg       0.72      0.72      0.72       500\n",
      "\n"
     ]
    }
   ],
   "source": [
    "# Calculate metrics\n",
    "precision, recall, f1, _ = precision_recall_fscore_support(true_labels, predictions, average='binary')\n",
    "report = classification_report(true_labels, predictions)\n",
    "\n",
    "print(\"\\n\" + \"=\"*50)\n",
    "print(\"Evaluation Results:\")\n",
    "print(f\"Precision: {precision:.4f}\")\n",
    "print(f\"Recall: {recall:.4f}\")\n",
    "print(f\"F1 Score: {f1:.4f}\")\n",
    "print(\"\\nDetailed Classification Report:\")\n",
    "print(report)"
   ]
  },
  {
   "cell_type": "markdown",
   "metadata": {},
   "source": [
    "# 8. Trying to make an Interactive Demo"
   ]
  },
  {
   "cell_type": "code",
   "execution_count": 13,
   "metadata": {},
   "outputs": [],
   "source": [
    "# # Simple interactive demo\n",
    "# def test_custom_input():\n",
    "#     user_input = input(\"Enter text to check for slang (or 'quit' to exit): \")\n",
    "#     if user_input.lower() == 'quit':\n",
    "#         return False\n",
    "    \n",
    "#     print(\"\\nGenerating response...\")\n",
    "#     response = generate_response(user_input)\n",
    "#     print(f\"\\nModel response:\\n{response}\")\n",
    "#     print(\"-\" * 50)\n",
    "#     return True\n",
    "\n",
    "# print(\"\\n\" + \"=\"*50)\n",
    "# print(\"Interactive Slang Detection Demo\")\n",
    "# print(\"Type 'quit' to exit\")\n",
    "# print(\"=\"*50 + \"\\n\")\n",
    "\n",
    "# while test_custom_input():\n",
    "#     pass"
   ]
  }
 ],
 "metadata": {
  "kernelspec": {
   "display_name": "lingo_win",
   "language": "python",
   "name": "python3"
  },
  "language_info": {
   "codemirror_mode": {
    "name": "ipython",
    "version": 3
   },
   "file_extension": ".py",
   "mimetype": "text/x-python",
   "name": "python",
   "nbconvert_exporter": "python",
   "pygments_lexer": "ipython3",
   "version": "undefined.undefined.undefined"
  }
 },
 "nbformat": 4,
 "nbformat_minor": 2
}
